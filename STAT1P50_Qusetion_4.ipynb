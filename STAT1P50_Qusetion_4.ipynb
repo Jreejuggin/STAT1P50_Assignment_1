{
 "cells": [
  {
   "cell_type": "code",
   "execution_count": 2,
   "id": "751ec210",
   "metadata": {},
   "outputs": [
    {
     "name": "stdout",
     "output_type": "stream",
     "text": [
      "[0.07142783001667874, 0.08430283234520486, 0.14752376898601516, 0.17815142733478828, 0.1790098251669041, 0.25613324993148157, 0.36591426056748333, 0.40117337092755245, 0.4806392503741853, 0.5016203337413971, 0.5581898283624493, 0.5707896365857759, 0.5867694490233285, 0.5876292408406476, 0.5934434611860343, 0.6183816229711511, 0.7927731623278209, 0.844924139751446, 0.9071458876079257, 0.9540575552930348]\n",
      "The random number is 0.463045753225532\n",
      "The index of the first element in the list that is equal to or greater than X is 8\n"
     ]
    }
   ],
   "source": [
    "from random import random\n",
    "\n",
    "l = [random() for i in range(20)] #makes a list of 20 random numbers\n",
    "sort = sorted(l) # sorts the list in acending order\n",
    "print (sort) #prints sorted list\n",
    "x = random() #assigns a random number to x\n",
    "print (\"The random number is\", x)\n",
    "for i in range (0,len(sort)): # loops through every number in the list\n",
    "    if sort[i]>=x: #checks to see if the number in the list is greater than or equal to the random number\n",
    "        print (\"The index of the first element in the list that is equal to or greater than X is\", i)\n",
    "        break #ends code\n"
   ]
  },
  {
   "cell_type": "code",
   "execution_count": null,
   "id": "7b0b5475",
   "metadata": {},
   "outputs": [],
   "source": []
  },
  {
   "cell_type": "code",
   "execution_count": null,
   "id": "a1cba575",
   "metadata": {},
   "outputs": [],
   "source": []
  }
 ],
 "metadata": {
  "kernelspec": {
   "display_name": "Python 3 (ipykernel)",
   "language": "python",
   "name": "python3"
  },
  "language_info": {
   "codemirror_mode": {
    "name": "ipython",
    "version": 3
   },
   "file_extension": ".py",
   "mimetype": "text/x-python",
   "name": "python",
   "nbconvert_exporter": "python",
   "pygments_lexer": "ipython3",
   "version": "3.11.4"
  }
 },
 "nbformat": 4,
 "nbformat_minor": 5
}
