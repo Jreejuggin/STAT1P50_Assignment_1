{
 "cells": [
  {
   "cell_type": "code",
   "execution_count": 62,
   "id": "d697c152",
   "metadata": {},
   "outputs": [
    {
     "name": "stdout",
     "output_type": "stream",
     "text": [
      "(12, 5, 45, 'PM')\n"
     ]
    }
   ],
   "source": [
    "#This function calculates the hours, minutes and seconds from seconds\n",
    "def getTime (secondsinput):\n",
    "    h = 3600 # number of seconds in one hour\n",
    "    m = 60 #number of seconds in one minute\n",
    "    s = 1 #one sec\n",
    "    \n",
    "    if secondsinput>= 43200: #if seconds is greater than 12 hours (in seconds) \n",
    "        time = \"PM\"\n",
    "    else:\n",
    "        time = \"AM\"\n",
    "        \n",
    "    if secondsinput >= 86400: #if seconds is greater than 24 hours (in seconds)\n",
    "        print (\"The hour is greater than 24\")\n",
    "        \n",
    "    \n",
    "    hours = secondsinput//h #calculates the amount of hours\n",
    "    hoursremainder = secondsinput % h #gets remainder\n",
    "    \n",
    "    if hoursremainder >= m: \n",
    "        minutes = hoursremainder//m #calculates the amount of minutes\n",
    "        minutesremainder = hoursremainder%m #gets remainder \n",
    "    else:\n",
    "        seconds = hoursremainder//s #calculates the amount of seconds if the remainder of the hours cannot divide 60 seconds\n",
    "        minutes = 0 #gives a value for minutes if it has not been assigned \n",
    "        minutesremainder = hoursremainder #if the remainder for the minutes has not been assigned, gives a value\n",
    "\n",
    "                 \n",
    "    if minutesremainder >= s:\n",
    "        seconds = minutesremainder//s #calculates the amount of seconds\n",
    "        \n",
    "    else:\n",
    "        seconds = 0 #gives a value for seconds if it has not been assigned \n",
    "        \n",
    "    return (hours, minutes,seconds, time)\n",
    "print (getTime (43545))"
   ]
  },
  {
   "cell_type": "code",
   "execution_count": null,
   "id": "24df4f15",
   "metadata": {},
   "outputs": [],
   "source": []
  },
  {
   "cell_type": "code",
   "execution_count": null,
   "id": "3e56e807",
   "metadata": {},
   "outputs": [],
   "source": []
  }
 ],
 "metadata": {
  "kernelspec": {
   "display_name": "Python 3 (ipykernel)",
   "language": "python",
   "name": "python3"
  },
  "language_info": {
   "codemirror_mode": {
    "name": "ipython",
    "version": 3
   },
   "file_extension": ".py",
   "mimetype": "text/x-python",
   "name": "python",
   "nbconvert_exporter": "python",
   "pygments_lexer": "ipython3",
   "version": "3.11.4"
  }
 },
 "nbformat": 4,
 "nbformat_minor": 5
}
