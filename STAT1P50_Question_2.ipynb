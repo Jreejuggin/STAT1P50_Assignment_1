{
 "cells": [
  {
   "cell_type": "code",
   "execution_count": 1,
   "id": "d440c4da",
   "metadata": {},
   "outputs": [
    {
     "name": "stdout",
     "output_type": "stream",
     "text": [
      "{'ring': 4, 'the': 3, 'door': 4, 'bell': 4, 'please': 6}\n"
     ]
    }
   ],
   "source": [
    "def makeDictionary (stringlist = []):  # function recieves a list of strings \n",
    "    dictionary = {stringlist[0]:len(stringlist[0])} #sets the first key and value of the dictionary\n",
    "    \n",
    "    for i in range (1, len(stringlist)): #loops for as long as the list is\n",
    "        dictionary[stringlist[i]]=len(stringlist[i]) # word(key): length of the word(value)\n",
    " \n",
    "    return dictionary\n",
    "\n",
    "list =[\"ring\",\"the\",\"door\",\"bell\",\"please\"]\n",
    "\n",
    "print (makeDictionary(list))\n"
   ]
  },
  {
   "cell_type": "code",
   "execution_count": null,
   "id": "7fec2cd6",
   "metadata": {},
   "outputs": [],
   "source": []
  },
  {
   "cell_type": "code",
   "execution_count": null,
   "id": "81eafca6",
   "metadata": {},
   "outputs": [],
   "source": []
  }
 ],
 "metadata": {
  "kernelspec": {
   "display_name": "Python 3 (ipykernel)",
   "language": "python",
   "name": "python3"
  },
  "language_info": {
   "codemirror_mode": {
    "name": "ipython",
    "version": 3
   },
   "file_extension": ".py",
   "mimetype": "text/x-python",
   "name": "python",
   "nbconvert_exporter": "python",
   "pygments_lexer": "ipython3",
   "version": "3.11.4"
  }
 },
 "nbformat": 4,
 "nbformat_minor": 5
}
