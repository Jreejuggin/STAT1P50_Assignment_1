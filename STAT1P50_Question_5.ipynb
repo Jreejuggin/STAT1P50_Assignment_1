{
 "cells": [
  {
   "cell_type": "code",
   "execution_count": 7,
   "id": "88a8a050",
   "metadata": {},
   "outputs": [
    {
     "name": "stdout",
     "output_type": "stream",
     "text": [
      "The percentage of the area the larger circle that can be covered by the area of the smaller circle is 25.0 %\n"
     ]
    }
   ],
   "source": [
    "import math #imports the math package\n",
    "#this function calculates the percentage of the area of the larger circle that can be covered by the area of the smaller circle\n",
    "def findPercentage (radiusofcircle1 = 1,radiusofcircle2 = 2): \n",
    "    #finds the area of both circles\n",
    "    area1 =(math.pi)*(radiusofcircle1**2)\n",
    "    area2 =(math.pi)*(radiusofcircle2**2)\n",
    "    \n",
    "    if area1>=area2:\n",
    "        percentage = (area2/area1)*100 #calculates percentage if circle1 is bigger than circle2\n",
    "    else:\n",
    "        percentage = (area1/area2)*100 #calculates percentage if circle2 is bigger than circle1\n",
    "        \n",
    "    return percentage\n",
    "print (\"The percentage of the area the larger circle that can be covered by the area of the smaller circle is\", findPercentage (),\"%\")"
   ]
  },
  {
   "cell_type": "code",
   "execution_count": null,
   "id": "8f36410d",
   "metadata": {},
   "outputs": [],
   "source": []
  },
  {
   "cell_type": "code",
   "execution_count": null,
   "id": "1bb6f91e",
   "metadata": {},
   "outputs": [],
   "source": []
  }
 ],
 "metadata": {
  "kernelspec": {
   "display_name": "Python 3 (ipykernel)",
   "language": "python",
   "name": "python3"
  },
  "language_info": {
   "codemirror_mode": {
    "name": "ipython",
    "version": 3
   },
   "file_extension": ".py",
   "mimetype": "text/x-python",
   "name": "python",
   "nbconvert_exporter": "python",
   "pygments_lexer": "ipython3",
   "version": "3.11.4"
  }
 },
 "nbformat": 4,
 "nbformat_minor": 5
}
