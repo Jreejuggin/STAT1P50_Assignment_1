{
 "cells": [
  {
   "cell_type": "code",
   "execution_count": 2,
   "id": "357e1dc6",
   "metadata": {},
   "outputs": [
    {
     "name": "stdout",
     "output_type": "stream",
     "text": [
      "15625\n",
      "78125\n",
      "16\n",
      "729\n",
      "43046721\n",
      "1\n",
      "729\n",
      "7\n",
      "625\n",
      "128\n",
      "9\n",
      "729\n",
      "32\n"
     ]
    }
   ],
   "source": [
    "#this function takes the vlaue x and raises it to the power of y\n",
    "def powerFunction (x,y): \n",
    "    return x**y\n",
    "#given input\n",
    "l = [[5,6], [5,7], [4,2], [3,6], [9,8], [1,3], [9,3], [7,1], [5,4], [2,7],\n",
    "[9,1], [9,3], [2,5]]\n",
    "\n",
    "\n",
    "for i in l: #looks at one pair of numbers at a time\n",
    "    print (powerFunction (i[0],i[1])) #calculates the first number of the pair raised to the second number\n",
    "    "
   ]
  },
  {
   "cell_type": "code",
   "execution_count": null,
   "id": "3785de53",
   "metadata": {},
   "outputs": [],
   "source": []
  }
 ],
 "metadata": {
  "kernelspec": {
   "display_name": "Python 3 (ipykernel)",
   "language": "python",
   "name": "python3"
  },
  "language_info": {
   "codemirror_mode": {
    "name": "ipython",
    "version": 3
   },
   "file_extension": ".py",
   "mimetype": "text/x-python",
   "name": "python",
   "nbconvert_exporter": "python",
   "pygments_lexer": "ipython3",
   "version": "3.11.4"
  }
 },
 "nbformat": 4,
 "nbformat_minor": 5
}
