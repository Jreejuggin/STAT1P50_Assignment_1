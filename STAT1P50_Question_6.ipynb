{
 "cells": [
  {
   "cell_type": "code",
   "execution_count": 36,
   "id": "c37b8758",
   "metadata": {},
   "outputs": [
    {
     "data": {
      "text/plain": [
       "{1: ('The proportion of the list elements that are smaller than or equal to the key is',\n",
       "  1),\n",
       " 9: ('The proportion of the list elements that are smaller than or equal to the key is',\n",
       "  3),\n",
       " 50: ('The proportion of the list elements that are smaller than or equal to the key is',\n",
       "  5),\n",
       " 22: ('The proportion of the list elements that are smaller than or equal to the key is',\n",
       "  4),\n",
       " 7: ('The proportion of the list elements that are smaller than or equal to the key is',\n",
       "  2)}"
      ]
     },
     "execution_count": 36,
     "metadata": {},
     "output_type": "execute_result"
    }
   ],
   "source": [
    "def myMethod (numberList = []): #function recieves a list\n",
    "    \n",
    "    count = 0\n",
    "    dictionary = {} #empty dictionary\n",
    "    \n",
    "    for i in range (0,len(numberList)): #loops through the recieved list of numbers\n",
    "        for j in numberList: #gets the number that is the key\n",
    "            if numberList[i]>= j: #checks to see if the key is greater than or equal to itself and the rest of the keys in the list\n",
    "                count = count +1 #counts to calculate proportion\n",
    "            else:\n",
    "                count = count #if key is not greater than or equal to another key then it will not count and the number will remain the same\n",
    "            \n",
    "    \n",
    "        dictionary[numberList[i]]= (\"The proportion of the list elements that are smaller than or equal to the key is\",count)\n",
    "        count = 0 #resets the counter\n",
    "    \n",
    "  \n",
    " \n",
    "    return dictionary# resturns dictionary {key:value}\n",
    "\n",
    "myMethod ([1,9,50,22,7]) "
   ]
  },
  {
   "cell_type": "code",
   "execution_count": null,
   "id": "4dd53360",
   "metadata": {},
   "outputs": [],
   "source": []
  }
 ],
 "metadata": {
  "kernelspec": {
   "display_name": "Python 3 (ipykernel)",
   "language": "python",
   "name": "python3"
  },
  "language_info": {
   "codemirror_mode": {
    "name": "ipython",
    "version": 3
   },
   "file_extension": ".py",
   "mimetype": "text/x-python",
   "name": "python",
   "nbconvert_exporter": "python",
   "pygments_lexer": "ipython3",
   "version": "3.11.4"
  }
 },
 "nbformat": 4,
 "nbformat_minor": 5
}
